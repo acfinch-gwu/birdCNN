{
 "cells": [
  {
   "cell_type": "code",
   "execution_count": null,
   "id": "cf0aa848",
   "metadata": {},
   "outputs": [],
   "source": [
    "import os\n",
    "import ebird.api as ebird"
   ]
  },
  {
   "cell_type": "code",
   "execution_count": null,
   "id": "fbb327f4",
   "metadata": {},
   "outputs": [],
   "source": []
  }
 ],
 "metadata": {
  "kernelspec": {
   "display_name": ".venv",
   "language": "python",
   "name": "python3"
  },
  "language_info": {
   "name": "python",
   "version": "3.11.1"
  }
 },
 "nbformat": 4,
 "nbformat_minor": 5
}
