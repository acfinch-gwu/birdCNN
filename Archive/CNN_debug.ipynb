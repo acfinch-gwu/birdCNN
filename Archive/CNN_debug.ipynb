{
 "cells": [
  {
   "cell_type": "code",
   "execution_count": 1,
   "id": "e9238589",
   "metadata": {},
   "outputs": [],
   "source": [
    "import numpy as np\n",
    "import pandas as pd\n",
    "import itertools\n",
    "import geopandas as gpd\n",
    "import rasterio\n",
    "import fiona\n",
    "import sklearn.model_selection as model_selection\n",
    "import torch\n",
    "import torch.nn as nn\n",
    "import torch.nn.functional as F\n",
    "import torch.optim as optim\n",
    "from torch.utils.data import DataLoader, Dataset, Subset, TensorDataset\n",
    "import torcheval.metrics as metrics\n",
    "\n",
    "import matplotlib.pyplot as plt"
   ]
  },
  {
   "cell_type": "code",
   "execution_count": null,
   "id": "105aad57",
   "metadata": {},
   "outputs": [],
   "source": [
    "import bird_data as data\n",
    "from Archive.bird_model import birdNN"
   ]
  },
  {
   "cell_type": "code",
   "execution_count": 3,
   "id": "5874f055",
   "metadata": {},
   "outputs": [],
   "source": [
    "class ZeroDataset(Dataset):\n",
    "    def __init__(self, a, b, c):\n",
    "        self.shape = (b, c)\n",
    "        self.length = a  # this will be the number of samples\n",
    "\n",
    "    def __len__(self):\n",
    "        return self.length\n",
    "\n",
    "    def __getitem__(self, idx):\n",
    "        return torch.zeros(self.shape)"
   ]
  },
  {
   "cell_type": "code",
   "execution_count": 35,
   "id": "dd2a5e6e",
   "metadata": {},
   "outputs": [],
   "source": [
    "class JuncoDataset(Dataset):\n",
    "    def __init__(self, tensor_data, labels):\n",
    "        self.tensor_data = tensor_data\n",
    "        self.labels = labels\n",
    "        self.C, self.H, self.W = tensor_data.shape\n",
    "\n",
    "        self.features = tensor_data.permute(1, 2, 0).reshape(-1, self.C)\n",
    "        self.targets = labels.flatten()\n",
    "\n",
    "    def __len__(self):\n",
    "        return self.H * self.W\n",
    "\n",
    "    def __getitem__(self, idx):\n",
    "        return self.features[idx], self.targets[idx]\n",
    "\n",
    "    def get_input_dim(self):\n",
    "        return self.C\n",
    "\n",
    "    def get_true_labels(self):\n",
    "        return self.labels\n",
    "\n",
    "\n",
    "class JuncoDatasetBuilder:\n",
    "    def __init__(self, dataframe, feature_cols=None, label_col='species_observed',\n",
    "                 num_lat_bins=100, num_lon_bins=100, fill_missing=True, fill_method='zeros'):\n",
    "        self.df = dataframe.copy()\n",
    "        self.label_col = label_col\n",
    "        self.num_lat_bins = num_lat_bins\n",
    "        self.num_lon_bins = num_lon_bins\n",
    "        self.fill_missing = fill_missing\n",
    "        self.fill_method = fill_method\n",
    "\n",
    "        if feature_cols is None:\n",
    "            exclude = ['latitude', 'longitude', 'lat_bin', 'lon_bin', label_col]\n",
    "            self.feature_cols = [col for col in self.df.columns if col not in exclude]\n",
    "        else:\n",
    "            self.feature_cols = feature_cols\n",
    "\n",
    "        self.grid = None\n",
    "        self.labels = None\n",
    "\n",
    "    def bin_coordinates(self):\n",
    "        lat_min, lat_max = self.df['latitude'].min(), self.df['latitude'].max()\n",
    "        lon_min, lon_max = self.df['longitude'].min(), self.df['longitude'].max()\n",
    "\n",
    "        lat_bins = np.linspace(lat_min, lat_max, self.num_lat_bins + 1)\n",
    "        lon_bins = np.linspace(lon_min, lon_max, self.num_lon_bins + 1)\n",
    "\n",
    "        self.df['lat_bin'] = np.digitize(self.df['latitude'], lat_bins) - 1\n",
    "        self.df['lon_bin'] = np.digitize(self.df['longitude'], lon_bins) - 1\n",
    "\n",
    "        self.df['lat_bin'] = self.df['lat_bin'].clip(0, self.num_lat_bins - 1)\n",
    "        self.df['lon_bin'] = self.df['lon_bin'].clip(0, self.num_lon_bins - 1)\n",
    "\n",
    "    def build_grid(self):\n",
    "        self.bin_coordinates()\n",
    "        grid = np.zeros((self.num_lat_bins, self.num_lon_bins, len(self.feature_cols)), dtype=np.float32)\n",
    "        counts = np.zeros((self.num_lat_bins, self.num_lon_bins), dtype=np.int32)\n",
    "\n",
    "        for _, row in self.df.iterrows():\n",
    "            i, j = row['lat_bin'], row['lon_bin']\n",
    "            grid[i, j] += row[self.feature_cols].values.astype(np.float32)\n",
    "            counts[i, j] += 1\n",
    "\n",
    "        nonzero_mask = counts > 0\n",
    "        grid[nonzero_mask] /= counts[nonzero_mask, None]\n",
    "\n",
    "        if self.fill_missing:\n",
    "            if self.fill_method == 'mean':\n",
    "                global_mean = np.nanmean(grid[nonzero_mask], axis=0)\n",
    "                grid[~nonzero_mask] = global_mean\n",
    "            if self.fill_method == 'zeros':\n",
    "                grid[~nonzero_mask] = 0\n",
    "\n",
    "        self.grid = grid\n",
    "\n",
    "    def extract_labels(self):\n",
    "        labels = np.zeros((self.num_lat_bins, self.num_lon_bins), dtype=np.int64)\n",
    "        for _, row in self.df.iterrows():\n",
    "            i, j = row['lat_bin'], row['lon_bin']\n",
    "            labels[i, j] = row[self.label_col]\n",
    "        self.labels = labels\n",
    "\n",
    "    def get_dataset(self):\n",
    "        if self.grid is None:\n",
    "            self.build_grid()\n",
    "        if self.labels is None:\n",
    "            self.extract_labels()\n",
    "\n",
    "        tensor_data = torch.from_numpy(self.grid).permute(2, 0, 1)\n",
    "        labels = torch.tensor(self.labels)\n",
    "        return JuncoDataset(tensor_data, labels)"
   ]
  },
  {
   "cell_type": "code",
   "execution_count": 36,
   "id": "3e0a7a2e",
   "metadata": {},
   "outputs": [
    {
     "name": "stdout",
     "output_type": "stream",
     "text": [
      "10000\n",
      "41\n"
     ]
    }
   ],
   "source": [
    "builder = JuncoDatasetBuilder(data.junco_data, label_col='species_observed',\n",
    "                              num_lat_bins = 100, num_lon_bins = 100)\n",
    "dataset = builder.get_dataset()\n",
    "length = len(dataset)\n",
    "print(length)\n",
    "input_dim = dataset.get_input_dim()\n",
    "print(input_dim)\n",
    "truth = dataset.get_true_labels()\n",
    "truth = pd.DataFrame(truth.numpy())"
   ]
  },
  {
   "cell_type": "code",
   "execution_count": 41,
   "id": "6746f822",
   "metadata": {},
   "outputs": [
    {
     "name": "stdout",
     "output_type": "stream",
     "text": [
      "torch.Size([32, 41])\n",
      "torch.Size([32])\n"
     ]
    }
   ],
   "source": [
    "loader = DataLoader(dataset, batch_size = 32, shuffle = True)\n",
    "for x, y in loader:\n",
    "    print(x.shape)\n",
    "    print(y.shape)\n",
    "    break"
   ]
  },
  {
   "cell_type": "code",
   "execution_count": 28,
   "id": "dda76a4b",
   "metadata": {},
   "outputs": [
    {
     "data": {
      "text/plain": [
       "(tensor([0., 0., 0., 0., 0., 0., 0., 0., 0., 0., 0., 0., 0., 0., 0., 0., 0., 0., 0., 0., 0., 0., 0., 0.,\n",
       "         0., 0., 0., 0., 0., 0., 0., 0., 0., 0., 0., 0., 0., 0., 0., 0., 0.]),\n",
       " tensor(0))"
      ]
     },
     "execution_count": 28,
     "metadata": {},
     "output_type": "execute_result"
    }
   ],
   "source": [
    "# dataset = ZeroDataset(30, 100, 100)\n",
    "dataset.__getitem__(10)"
   ]
  },
  {
   "cell_type": "code",
   "execution_count": 23,
   "id": "02f9e8ef",
   "metadata": {},
   "outputs": [],
   "source": [
    "epochs = 100\n",
    "num_classes = 2\n",
    "num_features = 30\n",
    "batchsize = 32\n",
    "train_size = int(0.8 * len(dataset))\n",
    "test_size = len(dataset) - train_size\n",
    "train_data = Subset(dataset, range(100))\n",
    "# train_data, test_data = torch.utils.data.random_split(dataset, [train_size, test_size])\n",
    "trainloader = DataLoader(train_data, batch_size = batchsize, shuffle = True)\n",
    "# testloader = DataLoader(test_data, batch_size = batchsize)\n"
   ]
  },
  {
   "cell_type": "code",
   "execution_count": 24,
   "id": "ec572d33",
   "metadata": {},
   "outputs": [
    {
     "name": "stdout",
     "output_type": "stream",
     "text": [
      "Starting Model Training\n"
     ]
    },
    {
     "ename": "RuntimeError",
     "evalue": "Expected 3D (unbatched) or 4D (batched) input to conv2d, but got input of size: [32, 41]",
     "output_type": "error",
     "traceback": [
      "\u001b[31m---------------------------------------------------------------------------\u001b[39m",
      "\u001b[31mRuntimeError\u001b[39m                              Traceback (most recent call last)",
      "\u001b[36mCell\u001b[39m\u001b[36m \u001b[39m\u001b[32mIn[24]\u001b[39m\u001b[32m, line 24\u001b[39m\n\u001b[32m     22\u001b[39m \u001b[38;5;28;01mfor\u001b[39;00m inputs, presence \u001b[38;5;129;01min\u001b[39;00m trainloader:\n\u001b[32m     23\u001b[39m     optimizer.zero_grad()\n\u001b[32m---> \u001b[39m\u001b[32m24\u001b[39m     outputs = \u001b[43mmodel\u001b[49m\u001b[43m(\u001b[49m\u001b[43minputs\u001b[49m\u001b[43m)\u001b[49m\n\u001b[32m     25\u001b[39m     loss = criterion(outputs, presence)\n\u001b[32m     26\u001b[39m     loss.backward()\n",
      "\u001b[36mFile \u001b[39m\u001b[32mc:\\Users\\alonz\\OneDrive\\George Washington University\\Spring 2025\\STAT 6260 Statistical Deep Learning\\Final\\birdCNN\\.venv\\Lib\\site-packages\\torch\\nn\\modules\\module.py:1739\u001b[39m, in \u001b[36mModule._wrapped_call_impl\u001b[39m\u001b[34m(self, *args, **kwargs)\u001b[39m\n\u001b[32m   1737\u001b[39m     \u001b[38;5;28;01mreturn\u001b[39;00m \u001b[38;5;28mself\u001b[39m._compiled_call_impl(*args, **kwargs)  \u001b[38;5;66;03m# type: ignore[misc]\u001b[39;00m\n\u001b[32m   1738\u001b[39m \u001b[38;5;28;01melse\u001b[39;00m:\n\u001b[32m-> \u001b[39m\u001b[32m1739\u001b[39m     \u001b[38;5;28;01mreturn\u001b[39;00m \u001b[38;5;28;43mself\u001b[39;49m\u001b[43m.\u001b[49m\u001b[43m_call_impl\u001b[49m\u001b[43m(\u001b[49m\u001b[43m*\u001b[49m\u001b[43margs\u001b[49m\u001b[43m,\u001b[49m\u001b[43m \u001b[49m\u001b[43m*\u001b[49m\u001b[43m*\u001b[49m\u001b[43mkwargs\u001b[49m\u001b[43m)\u001b[49m\n",
      "\u001b[36mFile \u001b[39m\u001b[32mc:\\Users\\alonz\\OneDrive\\George Washington University\\Spring 2025\\STAT 6260 Statistical Deep Learning\\Final\\birdCNN\\.venv\\Lib\\site-packages\\torch\\nn\\modules\\module.py:1750\u001b[39m, in \u001b[36mModule._call_impl\u001b[39m\u001b[34m(self, *args, **kwargs)\u001b[39m\n\u001b[32m   1745\u001b[39m \u001b[38;5;66;03m# If we don't have any hooks, we want to skip the rest of the logic in\u001b[39;00m\n\u001b[32m   1746\u001b[39m \u001b[38;5;66;03m# this function, and just call forward.\u001b[39;00m\n\u001b[32m   1747\u001b[39m \u001b[38;5;28;01mif\u001b[39;00m \u001b[38;5;129;01mnot\u001b[39;00m (\u001b[38;5;28mself\u001b[39m._backward_hooks \u001b[38;5;129;01mor\u001b[39;00m \u001b[38;5;28mself\u001b[39m._backward_pre_hooks \u001b[38;5;129;01mor\u001b[39;00m \u001b[38;5;28mself\u001b[39m._forward_hooks \u001b[38;5;129;01mor\u001b[39;00m \u001b[38;5;28mself\u001b[39m._forward_pre_hooks\n\u001b[32m   1748\u001b[39m         \u001b[38;5;129;01mor\u001b[39;00m _global_backward_pre_hooks \u001b[38;5;129;01mor\u001b[39;00m _global_backward_hooks\n\u001b[32m   1749\u001b[39m         \u001b[38;5;129;01mor\u001b[39;00m _global_forward_hooks \u001b[38;5;129;01mor\u001b[39;00m _global_forward_pre_hooks):\n\u001b[32m-> \u001b[39m\u001b[32m1750\u001b[39m     \u001b[38;5;28;01mreturn\u001b[39;00m \u001b[43mforward_call\u001b[49m\u001b[43m(\u001b[49m\u001b[43m*\u001b[49m\u001b[43margs\u001b[49m\u001b[43m,\u001b[49m\u001b[43m \u001b[49m\u001b[43m*\u001b[49m\u001b[43m*\u001b[49m\u001b[43mkwargs\u001b[49m\u001b[43m)\u001b[49m\n\u001b[32m   1752\u001b[39m result = \u001b[38;5;28;01mNone\u001b[39;00m\n\u001b[32m   1753\u001b[39m called_always_called_hooks = \u001b[38;5;28mset\u001b[39m()\n",
      "\u001b[36mFile \u001b[39m\u001b[32mc:\\Users\\alonz\\OneDrive\\George Washington University\\Spring 2025\\STAT 6260 Statistical Deep Learning\\Final\\birdCNN\\bird_model.py:57\u001b[39m, in \u001b[36mbirdNN.forward\u001b[39m\u001b[34m(self, x)\u001b[39m\n\u001b[32m     55\u001b[39m \u001b[38;5;28;01mdef\u001b[39;00m\u001b[38;5;250m \u001b[39m\u001b[34mforward\u001b[39m(\u001b[38;5;28mself\u001b[39m, x):\n\u001b[32m     56\u001b[39m     \u001b[38;5;28;01mfor\u001b[39;00m conv_layer \u001b[38;5;129;01min\u001b[39;00m \u001b[38;5;28mself\u001b[39m.conv_layers:\n\u001b[32m---> \u001b[39m\u001b[32m57\u001b[39m         x = \u001b[38;5;28mself\u001b[39m.activation(\u001b[43mconv_layer\u001b[49m\u001b[43m(\u001b[49m\u001b[43mx\u001b[49m\u001b[43m)\u001b[49m)\n\u001b[32m     58\u001b[39m         x = \u001b[38;5;28mself\u001b[39m.pool(x)\n\u001b[32m     59\u001b[39m         x = \u001b[38;5;28mself\u001b[39m.dropout(x)\n",
      "\u001b[36mFile \u001b[39m\u001b[32mc:\\Users\\alonz\\OneDrive\\George Washington University\\Spring 2025\\STAT 6260 Statistical Deep Learning\\Final\\birdCNN\\.venv\\Lib\\site-packages\\torch\\nn\\modules\\module.py:1739\u001b[39m, in \u001b[36mModule._wrapped_call_impl\u001b[39m\u001b[34m(self, *args, **kwargs)\u001b[39m\n\u001b[32m   1737\u001b[39m     \u001b[38;5;28;01mreturn\u001b[39;00m \u001b[38;5;28mself\u001b[39m._compiled_call_impl(*args, **kwargs)  \u001b[38;5;66;03m# type: ignore[misc]\u001b[39;00m\n\u001b[32m   1738\u001b[39m \u001b[38;5;28;01melse\u001b[39;00m:\n\u001b[32m-> \u001b[39m\u001b[32m1739\u001b[39m     \u001b[38;5;28;01mreturn\u001b[39;00m \u001b[38;5;28;43mself\u001b[39;49m\u001b[43m.\u001b[49m\u001b[43m_call_impl\u001b[49m\u001b[43m(\u001b[49m\u001b[43m*\u001b[49m\u001b[43margs\u001b[49m\u001b[43m,\u001b[49m\u001b[43m \u001b[49m\u001b[43m*\u001b[49m\u001b[43m*\u001b[49m\u001b[43mkwargs\u001b[49m\u001b[43m)\u001b[49m\n",
      "\u001b[36mFile \u001b[39m\u001b[32mc:\\Users\\alonz\\OneDrive\\George Washington University\\Spring 2025\\STAT 6260 Statistical Deep Learning\\Final\\birdCNN\\.venv\\Lib\\site-packages\\torch\\nn\\modules\\module.py:1750\u001b[39m, in \u001b[36mModule._call_impl\u001b[39m\u001b[34m(self, *args, **kwargs)\u001b[39m\n\u001b[32m   1745\u001b[39m \u001b[38;5;66;03m# If we don't have any hooks, we want to skip the rest of the logic in\u001b[39;00m\n\u001b[32m   1746\u001b[39m \u001b[38;5;66;03m# this function, and just call forward.\u001b[39;00m\n\u001b[32m   1747\u001b[39m \u001b[38;5;28;01mif\u001b[39;00m \u001b[38;5;129;01mnot\u001b[39;00m (\u001b[38;5;28mself\u001b[39m._backward_hooks \u001b[38;5;129;01mor\u001b[39;00m \u001b[38;5;28mself\u001b[39m._backward_pre_hooks \u001b[38;5;129;01mor\u001b[39;00m \u001b[38;5;28mself\u001b[39m._forward_hooks \u001b[38;5;129;01mor\u001b[39;00m \u001b[38;5;28mself\u001b[39m._forward_pre_hooks\n\u001b[32m   1748\u001b[39m         \u001b[38;5;129;01mor\u001b[39;00m _global_backward_pre_hooks \u001b[38;5;129;01mor\u001b[39;00m _global_backward_hooks\n\u001b[32m   1749\u001b[39m         \u001b[38;5;129;01mor\u001b[39;00m _global_forward_hooks \u001b[38;5;129;01mor\u001b[39;00m _global_forward_pre_hooks):\n\u001b[32m-> \u001b[39m\u001b[32m1750\u001b[39m     \u001b[38;5;28;01mreturn\u001b[39;00m \u001b[43mforward_call\u001b[49m\u001b[43m(\u001b[49m\u001b[43m*\u001b[49m\u001b[43margs\u001b[49m\u001b[43m,\u001b[49m\u001b[43m \u001b[49m\u001b[43m*\u001b[49m\u001b[43m*\u001b[49m\u001b[43mkwargs\u001b[49m\u001b[43m)\u001b[49m\n\u001b[32m   1752\u001b[39m result = \u001b[38;5;28;01mNone\u001b[39;00m\n\u001b[32m   1753\u001b[39m called_always_called_hooks = \u001b[38;5;28mset\u001b[39m()\n",
      "\u001b[36mFile \u001b[39m\u001b[32mc:\\Users\\alonz\\OneDrive\\George Washington University\\Spring 2025\\STAT 6260 Statistical Deep Learning\\Final\\birdCNN\\.venv\\Lib\\site-packages\\torch\\nn\\modules\\conv.py:554\u001b[39m, in \u001b[36mConv2d.forward\u001b[39m\u001b[34m(self, input)\u001b[39m\n\u001b[32m    553\u001b[39m \u001b[38;5;28;01mdef\u001b[39;00m\u001b[38;5;250m \u001b[39m\u001b[34mforward\u001b[39m(\u001b[38;5;28mself\u001b[39m, \u001b[38;5;28minput\u001b[39m: Tensor) -> Tensor:\n\u001b[32m--> \u001b[39m\u001b[32m554\u001b[39m     \u001b[38;5;28;01mreturn\u001b[39;00m \u001b[38;5;28;43mself\u001b[39;49m\u001b[43m.\u001b[49m\u001b[43m_conv_forward\u001b[49m\u001b[43m(\u001b[49m\u001b[38;5;28;43minput\u001b[39;49m\u001b[43m,\u001b[49m\u001b[43m \u001b[49m\u001b[38;5;28;43mself\u001b[39;49m\u001b[43m.\u001b[49m\u001b[43mweight\u001b[49m\u001b[43m,\u001b[49m\u001b[43m \u001b[49m\u001b[38;5;28;43mself\u001b[39;49m\u001b[43m.\u001b[49m\u001b[43mbias\u001b[49m\u001b[43m)\u001b[49m\n",
      "\u001b[36mFile \u001b[39m\u001b[32mc:\\Users\\alonz\\OneDrive\\George Washington University\\Spring 2025\\STAT 6260 Statistical Deep Learning\\Final\\birdCNN\\.venv\\Lib\\site-packages\\torch\\nn\\modules\\conv.py:549\u001b[39m, in \u001b[36mConv2d._conv_forward\u001b[39m\u001b[34m(self, input, weight, bias)\u001b[39m\n\u001b[32m    537\u001b[39m \u001b[38;5;28;01mif\u001b[39;00m \u001b[38;5;28mself\u001b[39m.padding_mode != \u001b[33m\"\u001b[39m\u001b[33mzeros\u001b[39m\u001b[33m\"\u001b[39m:\n\u001b[32m    538\u001b[39m     \u001b[38;5;28;01mreturn\u001b[39;00m F.conv2d(\n\u001b[32m    539\u001b[39m         F.pad(\n\u001b[32m    540\u001b[39m             \u001b[38;5;28minput\u001b[39m, \u001b[38;5;28mself\u001b[39m._reversed_padding_repeated_twice, mode=\u001b[38;5;28mself\u001b[39m.padding_mode\n\u001b[32m   (...)\u001b[39m\u001b[32m    547\u001b[39m         \u001b[38;5;28mself\u001b[39m.groups,\n\u001b[32m    548\u001b[39m     )\n\u001b[32m--> \u001b[39m\u001b[32m549\u001b[39m \u001b[38;5;28;01mreturn\u001b[39;00m \u001b[43mF\u001b[49m\u001b[43m.\u001b[49m\u001b[43mconv2d\u001b[49m\u001b[43m(\u001b[49m\n\u001b[32m    550\u001b[39m \u001b[43m    \u001b[49m\u001b[38;5;28;43minput\u001b[39;49m\u001b[43m,\u001b[49m\u001b[43m \u001b[49m\u001b[43mweight\u001b[49m\u001b[43m,\u001b[49m\u001b[43m \u001b[49m\u001b[43mbias\u001b[49m\u001b[43m,\u001b[49m\u001b[43m \u001b[49m\u001b[38;5;28;43mself\u001b[39;49m\u001b[43m.\u001b[49m\u001b[43mstride\u001b[49m\u001b[43m,\u001b[49m\u001b[43m \u001b[49m\u001b[38;5;28;43mself\u001b[39;49m\u001b[43m.\u001b[49m\u001b[43mpadding\u001b[49m\u001b[43m,\u001b[49m\u001b[43m \u001b[49m\u001b[38;5;28;43mself\u001b[39;49m\u001b[43m.\u001b[49m\u001b[43mdilation\u001b[49m\u001b[43m,\u001b[49m\u001b[43m \u001b[49m\u001b[38;5;28;43mself\u001b[39;49m\u001b[43m.\u001b[49m\u001b[43mgroups\u001b[49m\n\u001b[32m    551\u001b[39m \u001b[43m\u001b[49m\u001b[43m)\u001b[49m\n",
      "\u001b[31mRuntimeError\u001b[39m: Expected 3D (unbatched) or 4D (batched) input to conv2d, but got input of size: [32, 41]"
     ]
    }
   ],
   "source": [
    "model = birdNN(input_dim = num_features, output_dim = num_classes,\n",
    "               num_layers = 4, dropout_rate = 0.2,\n",
    "               kernelsize = 3, pad = 1, stride_len = 1, \n",
    "               hidden_dim = 64\n",
    "        )\n",
    "criterion = nn.CrossEntropyLoss()\n",
    "accuracy = metrics.MulticlassAccuracy(num_classes = num_classes)\n",
    "auroc = metrics.MulticlassAUROC(num_classes = num_classes)\n",
    "# confusion_matrix = metrics.functional.multiclass_confusion_matrix\n",
    "optimizer = optim.Adam(model.parameters(), lr = 0.001)\n",
    "scheduler = optim.lr_scheduler.StepLR(optimizer, step_size = 10, gamma  = 0.75)\n",
    "print(\"Starting Model Training\")\n",
    "model.train()\n",
    "train_loss = []\n",
    "train_accuracy = []\n",
    "train_auroc = []\n",
    "test_accuracy = []\n",
    "test_auroc = []\n",
    "for epoch in range(epochs):\n",
    "    ## Model Training\n",
    "    running_loss = 0\n",
    "    for inputs, presence in trainloader:\n",
    "        optimizer.zero_grad()\n",
    "        outputs = model(inputs)\n",
    "        loss = criterion(outputs, presence)\n",
    "        loss.backward()\n",
    "        optimizer.step()\n",
    "        running_loss += loss.item()\n",
    "        accuracy.update(outputs, presence)\n",
    "        auroc.update(outputs, presence)\n",
    "    train_accuracy.append(accuracy.compute().numpy())\n",
    "    train_auroc.append(auroc.compute().numpy())\n",
    "    train_loss.append(running_loss)\n",
    "    if (epoch + 1) % 10 == 0:\n",
    "        print(f'Epoch: {epoch + 1}\\n')\n",
    "        print(f'Loss: {train_loss[epoch]}\\n')\n",
    "        print(f'Accuracy: {train_accuracy[epoch]}\\n')\n",
    "        print(f'AUROC: {train_auroc[epoch]}\\n')\n",
    "    ## Model Validation\n",
    "    # accuracy.reset()\n",
    "    # auroc.reset()\n",
    "    # model.eval()\n",
    "    # with torch.no_grad():\n",
    "    #     for inputs, presence in testloader:\n",
    "    #         outputs = model(inputs)\n",
    "    #         accuracy.update(outputs, presence)\n",
    "    #         auroc.update(outputs, presence)\n",
    "    \n",
    "    # test_accuracy.append(accuracy.compute().numpy())\n",
    "    # test_auroc.append(auroc.compute().numpy())\n",
    "    # if (epoch + 1) % 10 == 0:\n",
    "    #     print(f'Test Accuracy: {test_accuracy[epoch]}\\n')\n",
    "    #     print(f'Test AUROC: {test_auroc[epoch]}\\n')\n",
    "    \n",
    "    # # scores.append(accuracy)\n",
    "    accuracy.reset()\n",
    "    auroc.reset()\n",
    "    model.train()\n",
    "    ## Saves model state\n",
    "    # torch.save(model.state_dict(), f'./model_states/model_{folds}.pth')"
   ]
  }
 ],
 "metadata": {
  "kernelspec": {
   "display_name": ".venv",
   "language": "python",
   "name": "python3"
  },
  "language_info": {
   "codemirror_mode": {
    "name": "ipython",
    "version": 3
   },
   "file_extension": ".py",
   "mimetype": "text/x-python",
   "name": "python",
   "nbconvert_exporter": "python",
   "pygments_lexer": "ipython3",
   "version": "3.11.1"
  }
 },
 "nbformat": 4,
 "nbformat_minor": 5
}
